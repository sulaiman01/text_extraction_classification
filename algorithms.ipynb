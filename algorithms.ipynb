{
 "metadata": {
  "language_info": {
   "codemirror_mode": {
    "name": "ipython",
    "version": 3
   },
   "file_extension": ".py",
   "mimetype": "text/x-python",
   "name": "python",
   "nbconvert_exporter": "python",
   "pygments_lexer": "ipython3",
   "version": "3.7.4"
  },
  "orig_nbformat": 4,
  "kernelspec": {
   "name": "python3",
   "display_name": "Python 3.7.4 64-bit"
  },
  "interpreter": {
   "hash": "7be35b7fb98e915637bb1c527cd3d27c68e7a7c4684499d43c65acef62eaf27e"
  }
 },
 "nbformat": 4,
 "nbformat_minor": 2,
 "cells": [
  {
   "source": [
    "Algorithm 1 \n",
    "the idea is do keyword extraction using yake keyword extractor and the train (naive bayes) the obtained keywords to classify them into following categories:  \n",
    "1. Brand  \n",
    "2. Model  \n",
    "3. Color  \n",
    "4. Description  \n",
    "5. Dimension  \n",
    "6. weight"
   ],
   "cell_type": "markdown",
   "metadata": {}
  },
  {
   "source": [
    "Extracting Keywords"
   ],
   "cell_type": "markdown",
   "metadata": {}
  },
  {
   "cell_type": "code",
   "execution_count": 24,
   "metadata": {},
   "outputs": [],
   "source": [
    "import yake"
   ]
  },
  {
   "cell_type": "code",
   "execution_count": 33,
   "metadata": {},
   "outputs": [],
   "source": [
    "language = \"en\"\n",
    "max_ngram_size = 4\n",
    "deduplication_thresold = 0.9\n",
    "deduplication_algo = 'seqm'\n",
    "windowSize = 1\n",
    "\n",
    "extractor = yake.KeywordExtractor(lan=language, n=max_ngram_size, dedupLim=deduplication_thresold, dedupFunc=deduplication_algo, windowsSize=windowSize , features=None)"
   ]
  },
  {
   "cell_type": "code",
   "execution_count": 34,
   "metadata": {},
   "outputs": [],
   "source": [
    "with open('test_1.txt','r') as str_file:\n",
    "    txt = str_file.read()"
   ]
  },
  {
   "cell_type": "code",
   "execution_count": 35,
   "metadata": {},
   "outputs": [
    {
     "output_type": "stream",
     "name": "stdout",
     "text": [
      "Samsung Galaxy M51 (Electric Blue, 6GB RAM, 128GB Storage) 6 Months Free Screen Replacement for Prime\nVisit the Samsung Store\n 4.4 out of 5 stars    64,698 ratings | 1000+ answered questions\nM.R.P.:\tâ‚¹28,999.00\nDeal Price:\tâ‚¹19,999.00\nYou Save:\tâ‚¹9,000.00 (31%)\nInclusive of all taxes\nFREE delivery: July 17 - 21 Details\nEMI starts at â‚¹941. No Cost EMI available EMI options \nSave Extra with 5 offers\nNo Cost EMI: Avail No Cost EMI on select cards for orders above â‚¹3000 DetailsNo Cost EMI: Avail No Cost EMI on select cards for orders above â‚¹3000 Details\nBank Offer: Get Rs. 500 Amazon Gift Card on a minimum purchase of Rs 10000 with HDFC Bank Debit Card EMI transaction DetailsBank Offer: Get Rs. 500 Amazon Gift Card on a minimum purchase of Rs 10000 with HDFCâ€¦Details\nSee 3 more\nPay on Delivery\nPay on Delivery\n\t\n7 Days Replacement\n7 Days Replacement\nAmazon Delivered\nAmazon Delivered\n1 Year Warranty\n1 Year Warranty\nIn stock on July 17, 2021.\nOrder it now.\nSold by STPL Exclusive Online and Fulfilled by Amazon.\nColour: Electric Blue\n\nCelestial Black\n \n\nElectric Blue\nStyle name: 6GB RAM, 128GB Storage\n\n6GB RAM, 128GB Storage\n\n \n\n8GB RAM, 128GB Storage\n\nModel Name\tSamsung Galaxy M51\nBrand\tSamsung\nForm factor\tTouchscreen Phone\nMemory Storage Capacity\t128 GB\nOS\tAndroid\nAbout this item\nQuad camera setup - 64MP (F1.8) main camera + 12MP (F2.2) ultra wide camera + 5MP (F2.4) depth camera + 5MP (F2.4) macro camera and 32MP (F2.2) front camera\n16.95 cm (6.7-inch) sAMOLED Plus - Infinity-O display, FHD+ capacitive touchscreen with 1080 x 2400 pixels resolution, Contrast Ratio: 78960:1\nMemory, Storage & SIM: 6GB RAM, 128GB internal memory expandable up to 512GB | Dedicated Memory slot\nAndroid v10.0 operating system with 2.2GHz+1.8GHz Qualcomm | SD730G octa core processor\n7000mAH lithium-ion battery | 25W USB Type-C to C fast charger in the box\nFast face unlock and Side Fingerprint sensor | Dual SIM (nano+nano) with dual standby and dual VoLTE | 3.5 mm headphone jack\n1 year manufacturer warranty for device and 6 months manufacturer warranty for in-box accessories including batteries from the date of purchase\nBox also includes: Travel adapter, USB Type-C to C, ejection pin and user manual\nFor any product related queries contact_us on: [1800407267864]\n\n\n"
     ]
    }
   ],
   "source": [
    "print(txt)"
   ]
  },
  {
   "cell_type": "code",
   "execution_count": 36,
   "metadata": {},
   "outputs": [
    {
     "output_type": "stream",
     "name": "stdout",
     "text": [
      "('Screen Replacement for Prime', 0.0065612265334789996)\n('Months Free Screen Replacement', 0.013664053726728558)\n('Free Screen Replacement', 0.017936620523088816)\n('Cost EMI', 0.02022928602543202)\n('Months Free Screen', 0.025698368014288975)\n('Avail No Cost EMI', 0.02816314548611035)\n('Screen Replacement', 0.033283951389044567)\n('Free Screen', 0.0372689658600935)\n('EMI', 0.04229563868105315)\n('RAM', 0.046662368937777185)\n('Cost', 0.05429375832947112)\n('Electric Blue', 0.061383280381713555)\n('Avail No Cost', 0.07141536113412626)\n('Amazon Gift Card', 0.07245009997144747)\n('Prime', 0.07253976825056388)\n('Replacement for Prime', 0.07972357406665637)\n('Storage', 0.08180781634028998)\n('Screen', 0.08192074793150367)\n('Details', 0.08594470888841457)\n('Days Replacement', 0.09080936517480057)\n"
     ]
    }
   ],
   "source": [
    "keywords = extractor.extract_keywords(txt)\n",
    "\n",
    "for keyword in keywords:\n",
    "    print(keyword)"
   ]
  },
  {
   "cell_type": "code",
   "execution_count": null,
   "metadata": {},
   "outputs": [],
   "source": [
    "the keywords we expected and want are brand name, model, price, ram, storage"
   ]
  }
 ]
}